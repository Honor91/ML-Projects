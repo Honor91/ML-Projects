{
 "cells": [
  {
   "cell_type": "markdown",
   "id": "70c2c6ab-7549-4d84-8de3-3dc0c3fceb46",
   "metadata": {},
   "source": [
    "# NBA DATASET"
   ]
  },
  {
   "cell_type": "markdown",
   "id": "89c7b410-7007-40cf-96f0-dacbf8fb77c5",
   "metadata": {},
   "source": [
    "The dataset contains statistics of 4000 NBA players, including:\n",
    "\n",
    "- `season`: The season (yearly) the player played in  \n",
    "- `poss`: Possessions played  \n",
    "- `mp`: Minutes played  \n",
    "- `do_ratio`: A player’s ratio of time spent in defense vs. offense; negative values mean more defense positioning\n",
    "- `pacing`: Player impact on team possessions per 48 minutes\n",
    "- `win_rating`: Wins Above Replacement rating, how many additional wins a player is worth over a same-level replacement"
   ]
  },
  {
   "cell_type": "markdown",
   "id": "2706a5e7-2c93-4b21-a728-9c3bac05a469",
   "metadata": {},
   "source": [
    "## Libraries"
   ]
  },
  {
   "cell_type": "code",
   "execution_count": 1,
   "id": "b6648737-3420-4b3b-892a-d1583fb1ed92",
   "metadata": {},
   "outputs": [],
   "source": [
    "import pandas as pd\n",
    "import numpy as np"
   ]
  },
  {
   "cell_type": "code",
   "execution_count": null,
   "id": "5adc3421-0ce1-4248-94aa-cfa522674e16",
   "metadata": {},
   "outputs": [],
   "source": []
  },
  {
   "cell_type": "code",
   "execution_count": null,
   "id": "d14ec23c-8188-42bc-acdf-1f0b2c93df3f",
   "metadata": {},
   "outputs": [],
   "source": []
  }
 ],
 "metadata": {
  "kernelspec": {
   "display_name": "Python 3 (ipykernel)",
   "language": "python",
   "name": "python3"
  },
  "language_info": {
   "codemirror_mode": {
    "name": "ipython",
    "version": 3
   },
   "file_extension": ".py",
   "mimetype": "text/x-python",
   "name": "python",
   "nbconvert_exporter": "python",
   "pygments_lexer": "ipython3",
   "version": "3.10.6"
  }
 },
 "nbformat": 4,
 "nbformat_minor": 5
}
